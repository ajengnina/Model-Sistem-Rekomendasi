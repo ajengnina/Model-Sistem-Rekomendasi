{
  "nbformat": 4,
  "nbformat_minor": 0,
  "metadata": {
    "colab": {
      "provenance": []
    },
    "kernelspec": {
      "name": "python3",
      "display_name": "Python 3"
    },
    "language_info": {
      "name": "python"
    }
  },
  "cells": [
    {
      "cell_type": "markdown",
      "source": [
        "## Import Library"
      ],
      "metadata": {
        "id": "N5sBVep03a0-"
      }
    },
    {
      "cell_type": "code",
      "source": [
        "# Import library dasar\n",
        "import pandas as pd\n",
        "import numpy as np\n",
        "\n",
        "# Untuk similarity\n",
        "from sklearn.metrics.pairwise import cosine_similarity\n",
        "\n",
        "# Untuk normalisasi fitur numerik\n",
        "from sklearn.preprocessing import MinMaxScaler\n",
        "\n",
        "# Untuk visualisasi (opsional)\n",
        "import matplotlib.pyplot as plt\n",
        "import seaborn as sns"
      ],
      "metadata": {
        "id": "OBMS2j--y-da"
      },
      "execution_count": 1,
      "outputs": []
    },
    {
      "cell_type": "markdown",
      "source": [
        "Pada tahap awal proyek, kita mengimpor beberapa library penting yang akan digunakan:\n",
        "\n",
        "- **pandas** dan **numpy** untuk manipulasi data dan perhitungan numerik.\n",
        "- **cosine_similarity** dari scikit-learn untuk menghitung kemiripan antar lagu berdasarkan fitur.\n",
        "- **MinMaxScaler** untuk melakukan normalisasi fitur numerik agar berada dalam rentang yang sama.\n",
        "- **matplotlib** dan **seaborn** sebagai library visualisasi data (opsional) untuk membantu eksplorasi data dan analisis.\n",
        "\n",
        "Library ini adalah fondasi dasar yang akan mendukung seluruh proses pembangunan sistem rekomendasi."
      ],
      "metadata": {
        "id": "z3WYbtYm3dND"
      }
    },
    {
      "cell_type": "markdown",
      "source": [
        "## Memuat dan Mengeksplorasi Dataset"
      ],
      "metadata": {
        "id": "RHAnRAj13lxZ"
      }
    },
    {
      "cell_type": "code",
      "source": [
        "# Load dataset (ubah path sesuai file yang kamu download)\n",
        "df = pd.read_csv('/content/drive/MyDrive/Membuat Model Sistem Rekomendasi/SpotifyFeatures.csv', nrows=10000)\n",
        "\n",
        "# Lihat 5 data teratas\n",
        "print(df.head())\n",
        "\n",
        "# Cek info dataset\n",
        "print(df.info())\n",
        "\n",
        "# Cek missing values\n",
        "print(df.isnull().sum())"
      ],
      "metadata": {
        "colab": {
          "base_uri": "https://localhost:8080/"
        },
        "id": "wGCmN6rP01O5",
        "outputId": "5d18940c-8115-49ba-dce5-348144ddd56f"
      },
      "execution_count": 2,
      "outputs": [
        {
          "output_type": "stream",
          "name": "stdout",
          "text": [
            "   genre        artist_name                        track_name  \\\n",
            "0  Movie     Henri Salvador       C'est beau de faire un Show   \n",
            "1  Movie  Martin & les fées  Perdu d'avance (par Gad Elmaleh)   \n",
            "2  Movie    Joseph Williams    Don't Let Me Be Lonely Tonight   \n",
            "3  Movie     Henri Salvador    Dis-moi Monsieur Gordon Cooper   \n",
            "4  Movie       Fabien Nataf                         Ouverture   \n",
            "\n",
            "                 track_id  popularity  acousticness  danceability  \\\n",
            "0  0BRjO6ga9RKCKjfDqeFgWV           0         0.611         0.389   \n",
            "1  0BjC1NfoEOOusryehmNudP           1         0.246         0.590   \n",
            "2  0CoSDzoNIKCRs124s9uTVy           3         0.952         0.663   \n",
            "3  0Gc6TVm52BwZD07Ki6tIvf           0         0.703         0.240   \n",
            "4  0IuslXpMROHdEPvSl1fTQK           4         0.950         0.331   \n",
            "\n",
            "   duration_ms  energy  instrumentalness key  liveness  loudness   mode  \\\n",
            "0        99373   0.910             0.000  C#    0.3460    -1.828  Major   \n",
            "1       137373   0.737             0.000  F#    0.1510    -5.559  Minor   \n",
            "2       170267   0.131             0.000   C    0.1030   -13.879  Minor   \n",
            "3       152427   0.326             0.000  C#    0.0985   -12.178  Major   \n",
            "4        82625   0.225             0.123   F    0.2020   -21.150  Major   \n",
            "\n",
            "   speechiness    tempo time_signature  valence  \n",
            "0       0.0525  166.969            4/4    0.814  \n",
            "1       0.0868  174.003            4/4    0.816  \n",
            "2       0.0362   99.488            5/4    0.368  \n",
            "3       0.0395  171.758            4/4    0.227  \n",
            "4       0.0456  140.576            4/4    0.390  \n",
            "<class 'pandas.core.frame.DataFrame'>\n",
            "RangeIndex: 10000 entries, 0 to 9999\n",
            "Data columns (total 18 columns):\n",
            " #   Column            Non-Null Count  Dtype  \n",
            "---  ------            --------------  -----  \n",
            " 0   genre             10000 non-null  object \n",
            " 1   artist_name       10000 non-null  object \n",
            " 2   track_name        10000 non-null  object \n",
            " 3   track_id          10000 non-null  object \n",
            " 4   popularity        10000 non-null  int64  \n",
            " 5   acousticness      10000 non-null  float64\n",
            " 6   danceability      10000 non-null  float64\n",
            " 7   duration_ms       10000 non-null  int64  \n",
            " 8   energy            10000 non-null  float64\n",
            " 9   instrumentalness  10000 non-null  float64\n",
            " 10  key               10000 non-null  object \n",
            " 11  liveness          10000 non-null  float64\n",
            " 12  loudness          10000 non-null  float64\n",
            " 13  mode              10000 non-null  object \n",
            " 14  speechiness       10000 non-null  float64\n",
            " 15  tempo             10000 non-null  float64\n",
            " 16  time_signature    10000 non-null  object \n",
            " 17  valence           10000 non-null  float64\n",
            "dtypes: float64(9), int64(2), object(7)\n",
            "memory usage: 1.4+ MB\n",
            "None\n",
            "genre               0\n",
            "artist_name         0\n",
            "track_name          0\n",
            "track_id            0\n",
            "popularity          0\n",
            "acousticness        0\n",
            "danceability        0\n",
            "duration_ms         0\n",
            "energy              0\n",
            "instrumentalness    0\n",
            "key                 0\n",
            "liveness            0\n",
            "loudness            0\n",
            "mode                0\n",
            "speechiness         0\n",
            "tempo               0\n",
            "time_signature      0\n",
            "valence             0\n",
            "dtype: int64\n"
          ]
        }
      ]
    },
    {
      "cell_type": "markdown",
      "source": [
        "Pada tahap ini, dataset lagu Spotify dimuat menggunakan `pandas` dengan fungsi `read_csv()`. Untuk mempercepat proses dan menghemat memori, kita hanya menggunakan 10.000 baris data dari file CSV.\n",
        "\n",
        "Setelah memuat data, kita melakukan beberapa eksplorasi awal:\n",
        "- Menampilkan 5 data teratas untuk melihat struktur dan contoh isi dataset.\n",
        "- Mengecek informasi dataset dengan `info()` untuk mengetahui jumlah data, tipe data tiap kolom, dan penggunaan memori.\n",
        "- Memeriksa missing values di seluruh kolom menggunakan `isnull().sum()` untuk memastikan tidak ada data yang hilang.\n",
        "\n",
        "Hasil eksplorasi menunjukkan dataset berisi 10.000 lagu dengan 18 kolom fitur, tanpa missing value, dan berbagai tipe data seperti numerik dan kategorikal."
      ],
      "metadata": {
        "id": "GAQPdyHm3oxX"
      }
    },
    {
      "cell_type": "markdown",
      "source": [
        "## Pemilihan Fitur untuk Sistem Rekomendasi"
      ],
      "metadata": {
        "id": "V_odu3fe4ANd"
      }
    },
    {
      "cell_type": "code",
      "source": [
        "# Fitu yang digunakan\n",
        "features = ['danceability', 'energy', 'valence', 'tempo', 'loudness']\n",
        "\n",
        "df_selected = df[features]"
      ],
      "metadata": {
        "id": "TPpibMHT05A4"
      },
      "execution_count": 3,
      "outputs": []
    },
    {
      "cell_type": "markdown",
      "source": [
        "\n",
        "Dalam membangun sistem rekomendasi berbasis content-based filtering, kita memilih beberapa fitur audio yang merepresentasikan karakteristik lagu, yaitu:\n",
        "\n",
        "- **danceability**: Seberapa cocok lagu untuk berdansa.\n",
        "- **energy**: Intensitas dan aktivitas energi lagu.\n",
        "- **valence**: Positivitas atau mood lagu.\n",
        "- **tempo**: Kecepatan lagu dalam BPM (beats per minute).\n",
        "- **loudness**: Keras atau lembutnya lagu dalam desibel.\n",
        "\n",
        "Fitur-fitur ini dipilih karena mampu merefleksikan atribut musik yang dapat membedakan satu lagu dengan lagu lainnya secara konten. Kemudian kita mengambil subset dataset hanya pada kolom fitur tersebut untuk proses selanjutnya.\n"
      ],
      "metadata": {
        "id": "6FzVNL6Z4CTH"
      }
    },
    {
      "cell_type": "markdown",
      "source": [
        "## Normalisasi Fitur Numerik"
      ],
      "metadata": {
        "id": "v6CQZCRN4KPZ"
      }
    },
    {
      "cell_type": "code",
      "source": [
        "scaler = MinMaxScaler()\n",
        "df_scaled = scaler.fit_transform(df_selected)\n",
        "\n",
        "df_scaled = pd.DataFrame(df_scaled, columns=features)"
      ],
      "metadata": {
        "id": "9YUEriSM08fY"
      },
      "execution_count": 4,
      "outputs": []
    },
    {
      "cell_type": "markdown",
      "source": [
        "\n",
        "Karena fitur-fitur audio memiliki skala yang berbeda-beda (misalnya tempo dalam BPM, loudness dalam desibel), kita melakukan normalisasi menggunakan Min-Max Scaler.\n",
        "\n",
        "Proses ini akan mengubah nilai fitur ke rentang 0 sampai 1 agar semua fitur memiliki bobot yang seimbang saat menghitung kemiripan (similarity) antar lagu.\n",
        "\n",
        "Setelah proses normalisasi, data fitur siap untuk digunakan dalam perhitungan similarity.\n"
      ],
      "metadata": {
        "id": "behUEbDl4MLa"
      }
    },
    {
      "cell_type": "markdown",
      "source": [
        "## Menghitung Cosine Similarity antar Lagu"
      ],
      "metadata": {
        "id": "x7aYAaqA4Vm-"
      }
    },
    {
      "cell_type": "code",
      "source": [
        "# Hitung cosine similarity antar lagu berdasarkan fitur\n",
        "similarity_matrix = cosine_similarity(df_scaled)\n",
        "\n",
        "# Uji coba tampilkan similarity pertama dengan lainnya\n",
        "print(similarity_matrix[0][:5])"
      ],
      "metadata": {
        "colab": {
          "base_uri": "https://localhost:8080/"
        },
        "id": "qBEyeRrf1DuL",
        "outputId": "7aea0672-0623-438f-d0f1-525e45e8a43f"
      },
      "execution_count": 5,
      "outputs": [
        {
          "output_type": "stream",
          "name": "stdout",
          "text": [
            "[1.         0.9844508  0.81498227 0.90025618 0.89758349]\n"
          ]
        }
      ]
    },
    {
      "cell_type": "markdown",
      "source": [
        "\n",
        "Setelah fitur dinormalisasi, kita menghitung kemiripan antar lagu menggunakan *cosine similarity*.\n",
        "\n",
        "Cosine similarity mengukur seberapa mirip dua lagu berdasarkan fitur audio mereka, dengan nilai 1 berarti sangat mirip (atau sama), dan nilai 0 berarti tidak mirip sama sekali.\n",
        "\n",
        "Output contoh berupa nilai similarity antara lagu pertama dengan lagu-lagu lainnya, menunjukkan tingkat kemiripan fitur audio antar lagu."
      ],
      "metadata": {
        "id": "AW36HxGr4YDB"
      }
    },
    {
      "cell_type": "markdown",
      "source": [
        "## Membuat Fungsi Rekomendasi Lagu"
      ],
      "metadata": {
        "id": "5qh7X-mP4i08"
      }
    },
    {
      "cell_type": "code",
      "source": [
        "# Tambahkan index judul lagu\n",
        "df['track_name'] = df['track_name'].str.lower()  # lowercase agar pencarian mudah\n",
        "\n",
        "# Buat mapping nama lagu ke index\n",
        "track_to_idx = pd.Series(df.index, index=df['track_name'])\n",
        "\n",
        "def recommend_songs(song_name, n=5):\n",
        "    song_name = song_name.lower()\n",
        "    if song_name not in track_to_idx:\n",
        "        return f\"Lagu '{song_name}' tidak ditemukan.\"\n",
        "\n",
        "    idx = track_to_idx[song_name]\n",
        "    sim_scores = list(enumerate(similarity_matrix[idx]))\n",
        "    sim_scores = sorted(sim_scores, key=lambda x: x[1], reverse=True)\n",
        "    sim_scores = sim_scores[1:n+1]  # exclude lagu itu sendiri\n",
        "\n",
        "    song_indices = [i[0] for i in sim_scores]\n",
        "\n",
        "    return df.loc[song_indices, ['track_name', 'artist_name']]"
      ],
      "metadata": {
        "id": "BRqI4T6r1Fsn"
      },
      "execution_count": 6,
      "outputs": []
    },
    {
      "cell_type": "markdown",
      "source": [
        "\n",
        "Untuk memudahkan pencarian dan rekomendasi, kita lakukan langkah berikut:\n",
        "\n",
        "1. Mengubah nama lagu menjadi huruf kecil (`lowercase`) agar pencarian lebih konsisten dan mudah.\n",
        "2. Membuat *mapping* dari nama lagu ke indeks baris dataset untuk akses cepat.\n",
        "3. Membuat fungsi `recommend_songs` yang:\n",
        "   - Menerima nama lagu sebagai input.\n",
        "   - Mencari indeks lagu tersebut.\n",
        "   - Mengambil skor kemiripan lagu lain berdasarkan cosine similarity.\n",
        "   - Mengurutkan lagu berdasarkan skor similarity tertinggi (kecuali lagu yang dicari sendiri).\n",
        "   - Mengembalikan daftar rekomendasi lagu (nama dan artis).\n",
        "\n",
        "Fungsi ini bisa digunakan untuk memberikan rekomendasi lagu yang mirip berdasarkan fitur audio."
      ],
      "metadata": {
        "id": "RrKdeOnz4lR4"
      }
    },
    {
      "cell_type": "markdown",
      "source": [
        "## Contoh Penggunaan Fungsi Rekomendasi"
      ],
      "metadata": {
        "id": "F4BeJGOW42Oo"
      }
    },
    {
      "cell_type": "code",
      "source": [
        "recommend_songs('Shape of You', n=5)"
      ],
      "metadata": {
        "colab": {
          "base_uri": "https://localhost:8080/",
          "height": 206
        },
        "id": "EgugSStd2TbF",
        "outputId": "00978d69-1ce0-4592-e20a-37f77bae90c0"
      },
      "execution_count": 7,
      "outputs": [
        {
          "output_type": "execute_result",
          "data": {
            "text/plain": [
              "                   track_name   artist_name\n",
              "1896                 given up   Linkin Park\n",
              "3706    god's been good to me   Keith Urban\n",
              "2601             country song       Seether\n",
              "660   29 ways to my back door  Tonic Sol-Fa\n",
              "2192                   bigger     Sugarland"
            ],
            "text/html": [
              "\n",
              "  <div id=\"df-0b2102bf-f34a-47b5-95b0-20eccca1e988\" class=\"colab-df-container\">\n",
              "    <div>\n",
              "<style scoped>\n",
              "    .dataframe tbody tr th:only-of-type {\n",
              "        vertical-align: middle;\n",
              "    }\n",
              "\n",
              "    .dataframe tbody tr th {\n",
              "        vertical-align: top;\n",
              "    }\n",
              "\n",
              "    .dataframe thead th {\n",
              "        text-align: right;\n",
              "    }\n",
              "</style>\n",
              "<table border=\"1\" class=\"dataframe\">\n",
              "  <thead>\n",
              "    <tr style=\"text-align: right;\">\n",
              "      <th></th>\n",
              "      <th>track_name</th>\n",
              "      <th>artist_name</th>\n",
              "    </tr>\n",
              "  </thead>\n",
              "  <tbody>\n",
              "    <tr>\n",
              "      <th>1896</th>\n",
              "      <td>given up</td>\n",
              "      <td>Linkin Park</td>\n",
              "    </tr>\n",
              "    <tr>\n",
              "      <th>3706</th>\n",
              "      <td>god's been good to me</td>\n",
              "      <td>Keith Urban</td>\n",
              "    </tr>\n",
              "    <tr>\n",
              "      <th>2601</th>\n",
              "      <td>country song</td>\n",
              "      <td>Seether</td>\n",
              "    </tr>\n",
              "    <tr>\n",
              "      <th>660</th>\n",
              "      <td>29 ways to my back door</td>\n",
              "      <td>Tonic Sol-Fa</td>\n",
              "    </tr>\n",
              "    <tr>\n",
              "      <th>2192</th>\n",
              "      <td>bigger</td>\n",
              "      <td>Sugarland</td>\n",
              "    </tr>\n",
              "  </tbody>\n",
              "</table>\n",
              "</div>\n",
              "    <div class=\"colab-df-buttons\">\n",
              "\n",
              "  <div class=\"colab-df-container\">\n",
              "    <button class=\"colab-df-convert\" onclick=\"convertToInteractive('df-0b2102bf-f34a-47b5-95b0-20eccca1e988')\"\n",
              "            title=\"Convert this dataframe to an interactive table.\"\n",
              "            style=\"display:none;\">\n",
              "\n",
              "  <svg xmlns=\"http://www.w3.org/2000/svg\" height=\"24px\" viewBox=\"0 -960 960 960\">\n",
              "    <path d=\"M120-120v-720h720v720H120Zm60-500h600v-160H180v160Zm220 220h160v-160H400v160Zm0 220h160v-160H400v160ZM180-400h160v-160H180v160Zm440 0h160v-160H620v160ZM180-180h160v-160H180v160Zm440 0h160v-160H620v160Z\"/>\n",
              "  </svg>\n",
              "    </button>\n",
              "\n",
              "  <style>\n",
              "    .colab-df-container {\n",
              "      display:flex;\n",
              "      gap: 12px;\n",
              "    }\n",
              "\n",
              "    .colab-df-convert {\n",
              "      background-color: #E8F0FE;\n",
              "      border: none;\n",
              "      border-radius: 50%;\n",
              "      cursor: pointer;\n",
              "      display: none;\n",
              "      fill: #1967D2;\n",
              "      height: 32px;\n",
              "      padding: 0 0 0 0;\n",
              "      width: 32px;\n",
              "    }\n",
              "\n",
              "    .colab-df-convert:hover {\n",
              "      background-color: #E2EBFA;\n",
              "      box-shadow: 0px 1px 2px rgba(60, 64, 67, 0.3), 0px 1px 3px 1px rgba(60, 64, 67, 0.15);\n",
              "      fill: #174EA6;\n",
              "    }\n",
              "\n",
              "    .colab-df-buttons div {\n",
              "      margin-bottom: 4px;\n",
              "    }\n",
              "\n",
              "    [theme=dark] .colab-df-convert {\n",
              "      background-color: #3B4455;\n",
              "      fill: #D2E3FC;\n",
              "    }\n",
              "\n",
              "    [theme=dark] .colab-df-convert:hover {\n",
              "      background-color: #434B5C;\n",
              "      box-shadow: 0px 1px 3px 1px rgba(0, 0, 0, 0.15);\n",
              "      filter: drop-shadow(0px 1px 2px rgba(0, 0, 0, 0.3));\n",
              "      fill: #FFFFFF;\n",
              "    }\n",
              "  </style>\n",
              "\n",
              "    <script>\n",
              "      const buttonEl =\n",
              "        document.querySelector('#df-0b2102bf-f34a-47b5-95b0-20eccca1e988 button.colab-df-convert');\n",
              "      buttonEl.style.display =\n",
              "        google.colab.kernel.accessAllowed ? 'block' : 'none';\n",
              "\n",
              "      async function convertToInteractive(key) {\n",
              "        const element = document.querySelector('#df-0b2102bf-f34a-47b5-95b0-20eccca1e988');\n",
              "        const dataTable =\n",
              "          await google.colab.kernel.invokeFunction('convertToInteractive',\n",
              "                                                    [key], {});\n",
              "        if (!dataTable) return;\n",
              "\n",
              "        const docLinkHtml = 'Like what you see? Visit the ' +\n",
              "          '<a target=\"_blank\" href=https://colab.research.google.com/notebooks/data_table.ipynb>data table notebook</a>'\n",
              "          + ' to learn more about interactive tables.';\n",
              "        element.innerHTML = '';\n",
              "        dataTable['output_type'] = 'display_data';\n",
              "        await google.colab.output.renderOutput(dataTable, element);\n",
              "        const docLink = document.createElement('div');\n",
              "        docLink.innerHTML = docLinkHtml;\n",
              "        element.appendChild(docLink);\n",
              "      }\n",
              "    </script>\n",
              "  </div>\n",
              "\n",
              "\n",
              "    <div id=\"df-15120bf7-f388-45d4-86d3-3fb008da40b7\">\n",
              "      <button class=\"colab-df-quickchart\" onclick=\"quickchart('df-15120bf7-f388-45d4-86d3-3fb008da40b7')\"\n",
              "                title=\"Suggest charts\"\n",
              "                style=\"display:none;\">\n",
              "\n",
              "<svg xmlns=\"http://www.w3.org/2000/svg\" height=\"24px\"viewBox=\"0 0 24 24\"\n",
              "     width=\"24px\">\n",
              "    <g>\n",
              "        <path d=\"M19 3H5c-1.1 0-2 .9-2 2v14c0 1.1.9 2 2 2h14c1.1 0 2-.9 2-2V5c0-1.1-.9-2-2-2zM9 17H7v-7h2v7zm4 0h-2V7h2v10zm4 0h-2v-4h2v4z\"/>\n",
              "    </g>\n",
              "</svg>\n",
              "      </button>\n",
              "\n",
              "<style>\n",
              "  .colab-df-quickchart {\n",
              "      --bg-color: #E8F0FE;\n",
              "      --fill-color: #1967D2;\n",
              "      --hover-bg-color: #E2EBFA;\n",
              "      --hover-fill-color: #174EA6;\n",
              "      --disabled-fill-color: #AAA;\n",
              "      --disabled-bg-color: #DDD;\n",
              "  }\n",
              "\n",
              "  [theme=dark] .colab-df-quickchart {\n",
              "      --bg-color: #3B4455;\n",
              "      --fill-color: #D2E3FC;\n",
              "      --hover-bg-color: #434B5C;\n",
              "      --hover-fill-color: #FFFFFF;\n",
              "      --disabled-bg-color: #3B4455;\n",
              "      --disabled-fill-color: #666;\n",
              "  }\n",
              "\n",
              "  .colab-df-quickchart {\n",
              "    background-color: var(--bg-color);\n",
              "    border: none;\n",
              "    border-radius: 50%;\n",
              "    cursor: pointer;\n",
              "    display: none;\n",
              "    fill: var(--fill-color);\n",
              "    height: 32px;\n",
              "    padding: 0;\n",
              "    width: 32px;\n",
              "  }\n",
              "\n",
              "  .colab-df-quickchart:hover {\n",
              "    background-color: var(--hover-bg-color);\n",
              "    box-shadow: 0 1px 2px rgba(60, 64, 67, 0.3), 0 1px 3px 1px rgba(60, 64, 67, 0.15);\n",
              "    fill: var(--button-hover-fill-color);\n",
              "  }\n",
              "\n",
              "  .colab-df-quickchart-complete:disabled,\n",
              "  .colab-df-quickchart-complete:disabled:hover {\n",
              "    background-color: var(--disabled-bg-color);\n",
              "    fill: var(--disabled-fill-color);\n",
              "    box-shadow: none;\n",
              "  }\n",
              "\n",
              "  .colab-df-spinner {\n",
              "    border: 2px solid var(--fill-color);\n",
              "    border-color: transparent;\n",
              "    border-bottom-color: var(--fill-color);\n",
              "    animation:\n",
              "      spin 1s steps(1) infinite;\n",
              "  }\n",
              "\n",
              "  @keyframes spin {\n",
              "    0% {\n",
              "      border-color: transparent;\n",
              "      border-bottom-color: var(--fill-color);\n",
              "      border-left-color: var(--fill-color);\n",
              "    }\n",
              "    20% {\n",
              "      border-color: transparent;\n",
              "      border-left-color: var(--fill-color);\n",
              "      border-top-color: var(--fill-color);\n",
              "    }\n",
              "    30% {\n",
              "      border-color: transparent;\n",
              "      border-left-color: var(--fill-color);\n",
              "      border-top-color: var(--fill-color);\n",
              "      border-right-color: var(--fill-color);\n",
              "    }\n",
              "    40% {\n",
              "      border-color: transparent;\n",
              "      border-right-color: var(--fill-color);\n",
              "      border-top-color: var(--fill-color);\n",
              "    }\n",
              "    60% {\n",
              "      border-color: transparent;\n",
              "      border-right-color: var(--fill-color);\n",
              "    }\n",
              "    80% {\n",
              "      border-color: transparent;\n",
              "      border-right-color: var(--fill-color);\n",
              "      border-bottom-color: var(--fill-color);\n",
              "    }\n",
              "    90% {\n",
              "      border-color: transparent;\n",
              "      border-bottom-color: var(--fill-color);\n",
              "    }\n",
              "  }\n",
              "</style>\n",
              "\n",
              "      <script>\n",
              "        async function quickchart(key) {\n",
              "          const quickchartButtonEl =\n",
              "            document.querySelector('#' + key + ' button');\n",
              "          quickchartButtonEl.disabled = true;  // To prevent multiple clicks.\n",
              "          quickchartButtonEl.classList.add('colab-df-spinner');\n",
              "          try {\n",
              "            const charts = await google.colab.kernel.invokeFunction(\n",
              "                'suggestCharts', [key], {});\n",
              "          } catch (error) {\n",
              "            console.error('Error during call to suggestCharts:', error);\n",
              "          }\n",
              "          quickchartButtonEl.classList.remove('colab-df-spinner');\n",
              "          quickchartButtonEl.classList.add('colab-df-quickchart-complete');\n",
              "        }\n",
              "        (() => {\n",
              "          let quickchartButtonEl =\n",
              "            document.querySelector('#df-15120bf7-f388-45d4-86d3-3fb008da40b7 button');\n",
              "          quickchartButtonEl.style.display =\n",
              "            google.colab.kernel.accessAllowed ? 'block' : 'none';\n",
              "        })();\n",
              "      </script>\n",
              "    </div>\n",
              "\n",
              "    </div>\n",
              "  </div>\n"
            ],
            "application/vnd.google.colaboratory.intrinsic+json": {
              "type": "dataframe",
              "summary": "{\n  \"name\": \"recommend_songs('Shape of You', n=5)\",\n  \"rows\": 5,\n  \"fields\": [\n    {\n      \"column\": \"track_name\",\n      \"properties\": {\n        \"dtype\": \"string\",\n        \"num_unique_values\": 5,\n        \"samples\": [\n          \"god's been good to me\",\n          \"bigger\",\n          \"country song\"\n        ],\n        \"semantic_type\": \"\",\n        \"description\": \"\"\n      }\n    },\n    {\n      \"column\": \"artist_name\",\n      \"properties\": {\n        \"dtype\": \"string\",\n        \"num_unique_values\": 5,\n        \"samples\": [\n          \"Keith Urban\",\n          \"Sugarland\",\n          \"Seether\"\n        ],\n        \"semantic_type\": \"\",\n        \"description\": \"\"\n      }\n    }\n  ]\n}"
            }
          },
          "metadata": {},
          "execution_count": 7
        }
      ]
    },
    {
      "cell_type": "markdown",
      "source": [
        "\n",
        "Misalnya, kita ingin merekomendasikan 5 lagu yang mirip dengan lagu **\"Shape of You\"**.\n",
        "\n",
        "Dengan memanggil fungsi:\n",
        "\n",
        "```python\n",
        "recommend_songs('Shape of You', n=5)"
      ],
      "metadata": {
        "id": "07i2OFTV443H"
      }
    },
    {
      "cell_type": "markdown",
      "source": [
        "## Evaluasi Sistem Rekomendasi dengan Precision@K"
      ],
      "metadata": {
        "id": "cgeKk6gb5FJ_"
      }
    },
    {
      "cell_type": "code",
      "source": [
        "def precision_at_k(song_name, k=5):\n",
        "    song_name = song_name.lower()\n",
        "    if song_name not in track_to_idx:\n",
        "        return f\"Lagu '{song_name}' tidak ditemukan.\"\n",
        "\n",
        "    idx = track_to_idx[song_name]\n",
        "    genre_input = df.loc[idx, 'genre']\n",
        "\n",
        "    sim_scores = list(enumerate(similarity_matrix[idx]))\n",
        "    sim_scores = sorted(sim_scores, key=lambda x: x[1], reverse=True)\n",
        "    sim_scores = sim_scores[1:k+1]  # exclude lagu itu sendiri\n",
        "\n",
        "    song_indices = [i[0] for i in sim_scores]\n",
        "    recommended_genres = df.loc[song_indices, 'genre']\n",
        "\n",
        "    precision = sum(recommended_genres == genre_input) / k\n",
        "    return precision\n",
        "\n",
        "precision_at_k('Shape of You', k=5)"
      ],
      "metadata": {
        "colab": {
          "base_uri": "https://localhost:8080/"
        },
        "id": "BrHwDSfP2VTT",
        "outputId": "76c7c6ef-f0d9-4dee-f3f7-035ee9d8e2ac"
      },
      "execution_count": 8,
      "outputs": [
        {
          "output_type": "execute_result",
          "data": {
            "text/plain": [
              "0.4"
            ]
          },
          "metadata": {},
          "execution_count": 8
        }
      ]
    },
    {
      "cell_type": "markdown",
      "source": [
        "\n",
        "Untuk mengevaluasi kualitas rekomendasi, kita menggunakan metrik **Precision@K**.\n",
        "\n",
        "Precision@K mengukur seberapa banyak lagu yang direkomendasikan dari genre yang sama dengan lagu input, dari total K rekomendasi.\n",
        "\n",
        "Contoh implementasi fungsi `precision_at_k`:\n",
        "\n",
        "```python\n",
        "def precision_at_k(song_name, k=5):\n",
        "    song_name = song_name.lower()\n",
        "    if song_name not in track_to_idx:\n",
        "        return f\"Lagu '{song_name}' tidak ditemukan.\"\n",
        "    \n",
        "    idx = track_to_idx[song_name]\n",
        "    genre_input = df.loc[idx, 'genre']\n",
        "    \n",
        "    sim_scores = list(enumerate(similarity_matrix[idx]))\n",
        "    sim_scores = sorted(sim_scores, key=lambda x: x[1], reverse=True)\n",
        "    sim_scores = sim_scores[1:k+1]  # exclude lagu itu sendiri\n",
        "    \n",
        "    song_indices = [i[0] for i in sim_scores]\n",
        "    recommended_genres = df.loc[song_indices, 'genre']\n",
        "    \n",
        "    precision = sum(recommended_genres == genre_input) / k\n",
        "    return precision"
      ],
      "metadata": {
        "id": "b4eWkh7u5N6t"
      }
    },
    {
      "cell_type": "code",
      "source": [],
      "metadata": {
        "id": "4v6lHCok2w5Z"
      },
      "execution_count": null,
      "outputs": []
    }
  ]
}